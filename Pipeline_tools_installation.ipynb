{
 "cells": [
  {
   "cell_type": "markdown",
   "id": "910c441e-3fd3-427e-af34-31ea35a6acef",
   "metadata": {
    "tags": []
   },
   "source": [
    "# Installing pipeline tools for plasmidome analysis\n"
   ]
  },
  {
   "cell_type": "markdown",
   "id": "f8f15508-a94d-4d75-8221-1e778d1ea854",
   "metadata": {},
   "source": [
    "Environment installations follows\n",
    "[conda tutorial](https://anaconda.org/anaconda/conda) and [mamba tutorial](https://anaconda.org/conda-forge/mamba) by Anaconda.org"
   ]
  },
  {
   "cell_type": "code",
   "execution_count": null,
   "id": "9e51f911-c62f-491d-b170-9b294ccf027c",
   "metadata": {},
   "outputs": [],
   "source": [
    "# Conda envrionment setup\n",
    "conda install -c conda-forge conda\n",
    "# for bioconda\n",
    "conda install -c bioconda-utils\n",
    "\n",
    "# mamba environment setup\n",
    "conda install -c conda-forge mamba"
   ]
  },
  {
   "cell_type": "markdown",
   "id": "6670a097-78c5-44c9-8d51-c531c2be5c80",
   "metadata": {},
   "source": [
    "plasmidfinder.py setup follows [Bitbucket documentation](https://bitbucket.org/genomicepidemiology/plasmidfinder/src/master/README.md) that include installation steps with plasmidfinder_db and dependencies"
   ]
  },
  {
   "cell_type": "code",
   "execution_count": null,
   "id": "f56113bb-eb70-4e06-a288-b6edb16ac85f",
   "metadata": {},
   "outputs": [],
   "source": [
    "# go to the directory to store plasmidfinder database\n",
    "cd /mnt/DATAPOOL/mmibstudentnew/\n",
    "\n",
    "# clone database repository\n",
    "git clone https://bitbucket.org/genomicepidemiology/plasmidfinder.git\n",
    "cd plasmidfinder_db\n",
    "PLASMID_DB=$(pwd)\n",
    "# install plasmidfinder database with executable kma_index program\n",
    "python3 INSTALL.py kma_index\n",
    "\n",
    "# install dependencies\n",
    "mamba install cgecore\n",
    "mamba install tabulate\n",
    "\n",
    "# install kma version 2.8.1\n",
    "git clone https://bitbucket.org/genomicepidemiology/kma\n",
    "mamba install kma\n",
    "# install blast latest version\n",
    "ftp://ftp.ncbi.nlm.nih.gov/blast/executables/blast+/LATEST/\n",
    "mamba install blast"
   ]
  },
  {
   "cell_type": "markdown",
   "id": "872303e5-cb09-49f6-a8f6-463fa8e309d8",
   "metadata": {},
   "source": [
    "For plasmidome annotation we used Prokka tool. more information can be found through [Torsten Seemann](https://doi.org/10.1093/bioinformatics/btu153) paper"
   ]
  },
  {
   "cell_type": "code",
   "execution_count": null,
   "id": "daabafa1-94ef-490c-a886-358ed5d605eb",
   "metadata": {},
   "outputs": [],
   "source": [
    "# install prokka\n",
    "conda install -c conda-forge -c bioconda -c defaults prokka\n",
    "# activate prokka_env\n",
    "conda activate prokka_env"
   ]
  },
  {
   "cell_type": "markdown",
   "id": "17730777-f464-40d5-8064-7dbd043cc372",
   "metadata": {},
   "source": [
    "For Pan-Plasmidome investigation, we utilized Panaroo pipeline. More information can be found [here](https://doi.org/10.1186/s13059-020-02090-4)"
   ]
  },
  {
   "cell_type": "code",
   "execution_count": null,
   "id": "7c78735f-7cd3-4fec-b1a8-cf18e4a6a09b",
   "metadata": {},
   "outputs": [],
   "source": [
    "# install panaroo\n",
    "mamba install -c conda-forge -c bioconda -c defaults panaroo\n",
    "\n",
    "# add cd-hit and MAFFT for building multiple sequence alignments\n",
    "mamba install cd-hit\n",
    "mamba install mafft\n",
    "\n",
    "# install required dependencies\n",
    "mamba install biopython numpy networkx gffutils edlib joblib tdqm cd-hit\n",
    "# install optional dependencies\n",
    "mamba install prank mafft clustal mash"
   ]
  },
  {
   "cell_type": "markdown",
   "id": "a06b34be-fbd4-4fe4-868d-a0e235f7343c",
   "metadata": {},
   "source": [
    "Resistance Gene Identifier (RGI) was utilized to predict the antibiotic resistomes from our RefSeq plasmids that retrieved from NCBI. More information can be found on [CARD database](https://doi.org/10.1093/nar/gkz935)"
   ]
  },
  {
   "cell_type": "code",
   "execution_count": null,
   "id": "339ad896-a2d6-4b39-a6b5-74ea0a536b18",
   "metadata": {},
   "outputs": [],
   "source": [
    "# install rgi with its database\n",
    "mamba install rgi\n",
    "\n",
    "# download latest AMR reference data from CARD\n",
    "wget https://card.mcmaster.ca/latest/data\n",
    "# unarchive downloaded file\n",
    "tar -xvf data ./card.jsontar -xvf data ./card.json\n",
    "\n",
    "# load AMR data in working directory > \"/mnt/DATAPOOL/mmibstudentnew/dummy/\"\n",
    "rgi load --card_json /mnt/DATAPOOL/mmibstudentnew/dummy/card.json --local\n",
    "# load AMR data system wide\n",
    "rgi load --card_json /mnt/DATAPOOL/mmibstudentnew/dummy/card.json\n",
    "\n",
    "# check database version\n",
    "# check local\n",
    "rgi database --version --local\n",
    "# check system wide\n",
    "rgi database --version\n",
    "\n",
    "# clean previous versions\n",
    "# clean rgi local\n",
    "rgi clean --local\n",
    "# clean system wide\n",
    "rgi clean\n",
    "\n",
    "# download wildcard data\n",
    "wget -O wildcard_data.tar.bz2 https://card.mcmaster.ca/latest/variants\n",
    "mkdir -p wildcard\n",
    "tar -xjf wildcard_data.tar.bz2 -C wildcard\n",
    "gunzip wildcard/*.gz\n",
    "\n",
    "# create annotation files using CARD data\n",
    "rgi card_annotation -i /mnt/DATAPOOL/mmibstudentnew/dummy/card.json > card_annotation.log 2>&1\n",
    "# create annotation files using WILDCARD data\n",
    "rgi wildcard_annotation -i wildcard --card_json /mnt/DATAPOOL/mmibstudentnew/dummy/card.json > wildcard_annotation.log 2>&1\n",
    "\n",
    "#load data into RGI\n",
    "rgi load --card_json/mnt/DATAPOOL/mmibstudentnew/dummy/card.json \\ \n",
    "--debug --local \\ \n",
    "--card_annotation card_database_v3.2.6.fasta \\ \n",
    "--card_annotation_all_models card_database_v3.2.6_all.fasta \\ \n",
    "--wildcard_annotation wildcard_database.fasta \\ \n",
    "--wildcard_annotation_all_models wildcard_database_all.fasta \\ \n",
    "--wildcard_index /path/to/wildcard/index-for-model-sequences.txt \\ \n",
    "--wildcard \\ \n",
    "--amr_kmers /path/to/wildcard/all_amr_61mers.txt \\ \n",
    "--kmer_database /path/to/wildcard/61_kmer_db.json \\ \n",
    "--kmer_size 61"
   ]
  },
  {
   "cell_type": "markdown",
   "id": "1ea81b3f-be4c-4f94-baa1-d0799c609e4e",
   "metadata": {},
   "source": [
    "[ABRicate](https://github.com/tseemann/abricate) package used for mass screening of the virulence genes"
   ]
  },
  {
   "cell_type": "code",
   "execution_count": null,
   "id": "5ef01724-cc33-474d-b214-2ce9a8614f41",
   "metadata": {},
   "outputs": [],
   "source": [
    "# install ABRicate\n",
    "mamba install abricate\n",
    "abricate --check\n",
    "abricate --list\n",
    "# download latest ABRicate database version\n",
    "abricate-get_db --db ncbi --force"
   ]
  }
 ],
 "metadata": {
  "kernelspec": {
   "display_name": "Python 3 (ipykernel)",
   "language": "python",
   "name": "python3"
  },
  "language_info": {
   "codemirror_mode": {
    "name": "ipython",
    "version": 3
   },
   "file_extension": ".py",
   "mimetype": "text/x-python",
   "name": "python",
   "nbconvert_exporter": "python",
   "pygments_lexer": "ipython3",
   "version": "3.9.10"
  }
 },
 "nbformat": 4,
 "nbformat_minor": 5
}
