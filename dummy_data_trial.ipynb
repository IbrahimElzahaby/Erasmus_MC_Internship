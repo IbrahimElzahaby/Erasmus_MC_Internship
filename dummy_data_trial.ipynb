{
 "cells": [
  {
   "cell_type": "code",
   "execution_count": null,
   "id": "a9c8dbeb-4a4d-4071-98c3-c62c6d01982d",
   "metadata": {},
   "outputs": [],
   "source": [
    "# Input files\n",
    "ctx_seqs.fasta\n"
   ]
  },
  {
   "cell_type": "code",
   "execution_count": null,
   "id": "46aecb85-86db-401a-a83b-1053bd31c957",
   "metadata": {},
   "outputs": [],
   "source": [
    "#!/usr/bin/env python3\n",
    "\"\"\"\n",
    "Script other: Ibrahim ElZahaby\n",
    "Micro section number: 097220\n",
    "Script function: python code generate 262 plasmid sequence records (output fasta files) from fasta file\n",
    "Usage: python3 single_fasta.py\n",
    "\"\"\"\n",
    "def split_fasta(fasta_file):\n",
    "    \"\"\"\n",
    "    Splits a multi-sequence FASTA file into individual files, one for each sequence.\n",
    "    The output files will be named with the accession number extracted from the sequence header.\n",
    "    The accession number is assumed to be the first string after the third '|' character in the header.\n",
    "    :param fasta_file: input FASTA file includes all genomic records\n",
    "    \"\"\"\n",
    "\n",
    "# declare input fasta file variable\n",
    "fasta_file = \"ctx_seqs.fasta\"\n",
    "# open fasta file\n",
    "with open(fasta_file, \"r\") as f:\n",
    "    # split fasta file into individual sequences\n",
    "    sequences = f.read().split(\">\")\n",
    "\n",
    "    for seq in sequences[1:]:\n",
    "        # split the sequence into lines\n",
    "        lines = seq.strip().split(\"\\n\")\n",
    "        # extract the header line\n",
    "        header = lines[0]\n",
    "        # join the remaining lines into a single sequence\n",
    "        seq = \"\".join(lines[1:])\n",
    "        # extract the accession number from the header\n",
    "        accession = header.split(\"|\")[3]\n",
    "\n",
    "        # write the sequence to a text file with the accession number as the output file name\n",
    "        with open(f\"{accession}.fasta\", \"w\") as out_file:\n",
    "            out_file.write(f\">{header}\\n{seq}\")"
   ]
  },
  {
   "cell_type": "code",
   "execution_count": null,
   "id": "c8cef919-7bea-4516-9d73-f5f2b49a0787",
   "metadata": {},
   "outputs": [],
   "source": [
    "# run the code on linux server\n",
    "python3 single_fasta.py"
   ]
  },
  {
   "cell_type": "code",
   "execution_count": null,
   "id": "e3459b66-f070-4e9c-ac11-4505595dbb68",
   "metadata": {},
   "outputs": [],
   "source": [
    "# create plasmidfinder results file\n",
    "mkdir plasmidfinder_res\n",
    "# run plasmidfinder on 262 ctx-M-15 dummy plasmids\n",
    "for file in *;do\n",
    " mkdir /mnt/DATAPOOL/mmibstudentnew/dummy/output_files/plasmidfinder_res/$file/;\n",
    " plasmidfinder.py -i $file\n",
    " -o /mnt/DATAPOOL/mmibstudentnew/dummy/output_files/plasmidfinder_res/$file/\n",
    " -t 0.60 -x -p\n",
    " /mnt/DATAPOOL/mmibstudentnew/plasmidfinder/plasmidfinder_db/;done\n",
    "# move some output files to plasmidfinder results file\n",
    "mv tmp results.txt results_tab.tsv data.json Hit_in_genome_seq.fsa Plasmid_seqs.fsa /mnt/DATAPOOL/mmibstudentnew/dummy/output_files/plasmidfinder_res/"
   ]
  },
  {
   "cell_type": "code",
   "execution_count": null,
   "id": "b29074fe-1a29-41b6-9df2-6e47a69c0458",
   "metadata": {},
   "outputs": [],
   "source": [
    "# creat prokka results file\n",
    "mkdir prokka_res\n",
    "# copy fasta files to prokka results file\n",
    "cp /mnt/DATAPOOL/mmibstudentnew/dummy/output_files/*.fasta /mnt/DATAPOOL/mmibstudentnew/dummy/output_files/prokka_res/\n",
    "# current working directory\n",
    "/mnt/DATAPOOL/mmibstudentnew/dummy/output_files/\n",
    "# run prokka on 262 ctx-M-15 dummy plasmids\n",
    "for file in *.fasta; do prokka --kingdom Bacteria --outdir $file$file --prefix $file $file --force; done"
   ]
  },
  {
   "cell_type": "code",
   "execution_count": null,
   "id": "615d43fb-4075-498b-81aa-dcd0f170c2c6",
   "metadata": {},
   "outputs": [],
   "source": [
    "# create directory for panaroo\n",
    "mkdir panaroo_data\n",
    "# grep all gff files\n",
    "find /mnt/DATAPOOL/mmibstudentnew/dummy/output_files/prokka_res/\n",
    " -type f -name \"*.gff\" -exec cp {}\n",
    " /mnt/DATAPOOL/mmibstudentnew/dummy/output_files/panaroo_data \\;"
   ]
  },
  {
   "cell_type": "code",
   "execution_count": null,
   "id": "4394c7e7-8d38-44fa-94d8-a742b233efc2",
   "metadata": {},
   "outputs": [],
   "source": [
    "# create new directory for panaroo results\n",
    "mkdir panaroo_data\n",
    "cd panaroo_data\n",
    "mkdir large_files\n",
    "mkdir small_files"
   ]
  },
  {
   "cell_type": "code",
   "execution_count": null,
   "id": "2cf67e83-0c15-41b2-aa16-899dd78d66ed",
   "metadata": {},
   "outputs": [],
   "source": [
    "#!/usr/bin/env python3\n",
    "\"\"\"\n",
    "Script other: Ibrahim ElZahaby\n",
    "Student number: 1069624\n",
    "Script function: separate 239 gff files above 1 kb and below 1 kb into two folders\n",
    "Usage: python3 file_size_separator.py\n",
    "\"\"\"\n",
    "import os\n",
    "import shutil\n",
    "\n",
    "# Define the paths to the input and output directories\n",
    "gffs_dir = '/mnt/DATAPOOL/mmibstudentnew/dummy/output_files/panaroo_data/'\n",
    "large_gffs = '/mnt/DATAPOOL/mmibstudentnew/dummy/output_files/panaroo_data/large_files/'\n",
    "small_gffs = '/mnt/DATAPOOL/mmibstudentnew/dummy/output_files/panaroo_data/small_files/'\n",
    "\n",
    "# Loop over the files in the input directory\n",
    "for filename in os.listdir(gffs_dir):\n",
    "    # Construct the full path to the file\n",
    "    filepath = os.path.join(gffs_dir, filename)\n",
    "    # Check if the file size is greater than 5 KB\n",
    "    if os.path.getsize(filepath) > 1 * 1024:\n",
    "        # Move the file to the large files directory\n",
    "        shutil.move(filepath, large_gffs)\n",
    "    else:\n",
    "        # Move the file to the small files directory\n",
    "        shutil.move(filepath, small_gffs)"
   ]
  },
  {
   "cell_type": "code",
   "execution_count": null,
   "id": "11a95f79-be78-41e4-9e1e-15e4c222366a",
   "metadata": {},
   "outputs": [],
   "source": [
    "# run # run the code on linux server\n",
    "python3 file_size_separator.py"
   ]
  },
  {
   "cell_type": "code",
   "execution_count": null,
   "id": "5095232c-644c-46ee-96ff-311580969b8f",
   "metadata": {},
   "outputs": [],
   "source": [
    "mkdir large_res\n",
    "# run panaroo on large_gff files\n",
    "panaroo -i *.gff -o /mnt/DATAPOOL/mmibstudentnew/dummy/output_files/panaroo_data/large_res/ --clean-mode strict --remove-invalid-genes\n",
    " -f 0.5 --len_dif_percent 0.98 --merge_paralogs --refind_prop_match 0.5\n",
    " --search_radius 1000 --aligner clustal --core_threshold 0.98 -t 10\n",
    "\n",
    "mkdir small_res\n",
    "# run panaroo on small_gff files\n",
    "panaroo -i *.gff -o /mnt/DATAPOOL/mmibstudentnew/dummy/output_files/panaroo_data/small_res/ --clean-mode strict --remove-invalid-genes\n",
    " -f 0.5 --len_dif_percent 0.98 --merge_paralogs --refind_prop_match 0.5\n",
    " --search_radius 1000 --aligner clustal --core_threshold 0.98 -t 10"
   ]
  },
  {
   "cell_type": "code",
   "execution_count": null,
   "id": "613c9a51-83e9-4c3f-bd47-3e455e7a779f",
   "metadata": {},
   "outputs": [],
   "source": [
    "# create new directory for panaroo results\n",
    "mkdir abricate_res\n",
    "# run abricate on fasta files\n",
    "abricate -db vfdb --quiet /mnt/DATAPOOL/mmibstudentnew/dummy/output_files/*.fasta > abr_output.tab\n",
    "# create output summary\n",
    "abricate --summary abr_output.tab > abr_sum.tab"
   ]
  }
 ],
 "metadata": {
  "kernelspec": {
   "display_name": "Python 3 (ipykernel)",
   "language": "python",
   "name": "python3"
  },
  "language_info": {
   "codemirror_mode": {
    "name": "ipython",
    "version": 3
   },
   "file_extension": ".py",
   "mimetype": "text/x-python",
   "name": "python",
   "nbconvert_exporter": "python",
   "pygments_lexer": "ipython3",
   "version": "3.9.10"
  }
 },
 "nbformat": 4,
 "nbformat_minor": 5
}
