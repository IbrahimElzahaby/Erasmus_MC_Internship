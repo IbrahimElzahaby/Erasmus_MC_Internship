{
 "cells": [
  {
   "cell_type": "code",
   "execution_count": null,
   "id": "e3459b66-f070-4e9c-ac11-4505595dbb68",
   "metadata": {},
   "outputs": [],
   "source": [
    "# run plasmidfinder on 261 ctx-M-15 dummy plasmids\n",
    "for file in *;do\n",
    " mkdir /mnt/DATAPOOL/mmibstudentnew/dummy/output_files/test/$file/;\n",
    " plasmidfinder.py -i $file\n",
    " -o /mnt/DATAPOOL/mmibstudentnew/dummy/output_files/test/$file/\n",
    " -t 0.60 -x -p\n",
    " /mnt/DATAPOOL/mmibstudentnew/plasmidfinder/plasmidfinder_db/;done"
   ]
  },
  {
   "cell_type": "code",
   "execution_count": null,
   "id": "b29074fe-1a29-41b6-9df2-6e47a69c0458",
   "metadata": {},
   "outputs": [],
   "source": [
    "# run prokka on 261 ctx-M-15 dummy plasmids\n",
    "for fasta_file in\n",
    " /mnt/DATAPOOL/mmibstudentnew/dummy/output_files/*.fasta;\n",
    " do prokka --kingdom Bacteria --outdir ${fasta_file} $fasta_file; done"
   ]
  },
  {
   "cell_type": "code",
   "execution_count": null,
   "id": "2b594071-1f07-4ee1-936d-e602fa32fd1f",
   "metadata": {},
   "outputs": [],
   "source": [
    "# rename the output files\n",
    "find /path/to/directory -type d -exec bash\n",
    " -c 'cd \"{}\" && for file in *;\n",
    " do mv \"$file\" \"$(basename $(pwd))_${file}\"; done'\\;"
   ]
  },
  {
   "cell_type": "code",
   "execution_count": null,
   "id": "615d43fb-4075-498b-81aa-dcd0f170c2c6",
   "metadata": {},
   "outputs": [],
   "source": [
    "# grep all gff files\n",
    "find /mnt/DATAPOOL/mmibstudentnew/dummy/output_files/prokka_res/\n",
    " -type f -name \"*.gff\" -exec cp {}\n",
    " /mnt/DATAPOOL/mmibstudentnew/dummy/output_files/panaroo_data \\;"
   ]
  },
  {
   "cell_type": "code",
   "execution_count": null,
   "id": "5095232c-644c-46ee-96ff-311580969b8f",
   "metadata": {},
   "outputs": [],
   "source": [
    "# create new directory for panaroo results\n",
    "mkdir results\n",
    "# run panaroo on gff files\n",
    "panaroo -i *.gff -o results/ --clean-mode strict --remove-invalid-genes\n",
    " -f 0.5 --len_dif_percent 0.98 --merge_paralogs --refind_prop_match 0.5\n",
    " --search_radius 1000 --aligner clustal --core_threshold 0.98 -t 10"
   ]
  }
 ],
 "metadata": {
  "kernelspec": {
   "display_name": "Python 3 (ipykernel)",
   "language": "python",
   "name": "python3"
  },
  "language_info": {
   "codemirror_mode": {
    "name": "ipython",
    "version": 3
   },
   "file_extension": ".py",
   "mimetype": "text/x-python",
   "name": "python",
   "nbconvert_exporter": "python",
   "pygments_lexer": "ipython3",
   "version": "3.9.10"
  }
 },
 "nbformat": 4,
 "nbformat_minor": 5
}
