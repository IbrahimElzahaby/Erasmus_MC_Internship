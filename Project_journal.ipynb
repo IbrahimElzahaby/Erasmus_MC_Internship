{
 "cells": [
  {
   "cell_type": "markdown",
   "id": "059afe4e-1879-4f31-b973-4d845a7a4933",
   "metadata": {
    "tags": []
   },
   "source": [
    "\n"
   ]
  },
  {
   "cell_type": "code",
   "execution_count": null,
   "id": "9e51f911-c62f-491d-b170-9b294ccf027c",
   "metadata": {},
   "outputs": [],
   "source": [
    "# install working environments\n",
    "\n",
    "# Conda envrionment setup\n",
    "conda install -c conda-forge conda\n",
    "# for bioconda\n",
    "conda install -c bioconda-utils\n",
    "\n",
    "# mamba environment setup\n",
    "conda install mamba -n base -c conda-forge\n",
    "# or\n",
    "conda install -c conda-forge mamba\n",
    "\n",
    "# activate prokka_env\n",
    "conda activate prokka_env"
   ]
  },
  {
   "cell_type": "code",
   "execution_count": null,
   "id": "f56113bb-eb70-4e06-a288-b6edb16ac85f",
   "metadata": {},
   "outputs": [],
   "source": [
    "# install plasmid finder with its database\n",
    "\n",
    "# go to the directory to store plasmidfinder database\n",
    "cd /mnt/DATAPOOL/mmibstudentnew/\n",
    "\n",
    "# clone database repository\n",
    "git clone https://bitbucket.org/genomicepidemiology/plasmidfinder.git\n",
    "cd plasmidfinder_db\n",
    "PLASMID_DB=$(pwd)\n",
    "# install plasmidfinder database with executable kma_index program\n",
    "python3 INSTALL.py kma_index\n",
    "# install dependencies\n",
    "mamba install cgecore\n",
    "mamba install tabulate\n",
    "# install kma version 2.8.1\n",
    "git clone https://bitbucket.org/genomicepidemiology/kma\n",
    "mamba install kma\n",
    "# install blast latest version\n",
    "ftp://ftp.ncbi.nlm.nih.gov/blast/executables/blast+/LATEST/\n",
    "mamba install blast"
   ]
  },
  {
   "cell_type": "code",
   "execution_count": null,
   "id": "55114e4b-96e6-44e6-8c16-b4c7c42071ba",
   "metadata": {},
   "outputs": [],
   "source": [
    "# install rgi with its database\n",
    "mamba install rgi\n"
   ]
  },
  {
   "cell_type": "code",
   "execution_count": null,
   "id": "b44dcf83-8ec6-4490-96a5-1098028e8cd1",
   "metadata": {},
   "outputs": [],
   "source": [
    "# run plasmidfinder on 261 ctx-M-15 dummy plasmids\n",
    "for file in *;do \n",
    "mkdir /mnt/DATAPOOL/mmibstudentnew/dummy/output_files/test/$file/; \n",
    "plasmidfinder.py -i $file \n",
    "-o /mnt/DATAPOOL/mmibstudentnew/dummy/output_files/test/$file/ \n",
    "-t 0.60 -x -p \n",
    "/mnt/DATAPOOL/mmibstudentnew/plasmidfinder/plasmidfinder_db/;done"
   ]
  },
  {
   "cell_type": "code",
   "execution_count": null,
   "id": "7da2e4c1-010d-4bb2-838e-efabaec9a800",
   "metadata": {},
   "outputs": [],
   "source": [
    "# run prokka on 261 ctx-M-15 dummy plasmids\n",
    "for file in *.fasta; do prokka --kingdom Bacteria \n",
    "--outdir $file$file --prefix $file $file --force;done"
   ]
  },
  {
   "cell_type": "code",
   "execution_count": null,
   "id": "49971d4d-f495-4883-98e7-15ae71a708b9",
   "metadata": {},
   "outputs": [],
   "source": [
    "# grep all files\n",
    "for subdir in ;do cp $subdir/.gff $subdir.gff; done;"
   ]
  }
 ],
 "metadata": {
  "kernelspec": {
   "display_name": "Python 3 (ipykernel)",
   "language": "python",
   "name": "python3"
  },
  "language_info": {
   "codemirror_mode": {
    "name": "ipython",
    "version": 3
   },
   "file_extension": ".py",
   "mimetype": "text/x-python",
   "name": "python",
   "nbconvert_exporter": "python",
   "pygments_lexer": "ipython3",
   "version": "3.9.10"
  }
 },
 "nbformat": 4,
 "nbformat_minor": 5
}
