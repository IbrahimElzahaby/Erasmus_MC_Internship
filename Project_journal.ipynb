{
 "cells": [
  {
   "cell_type": "markdown",
   "id": "059afe4e-1879-4f31-b973-4d845a7a4933",
   "metadata": {
    "tags": []
   },
   "source": [
    "\n"
   ]
  },
  {
   "cell_type": "code",
   "execution_count": null,
   "id": "9e51f911-c62f-491d-b170-9b294ccf027c",
   "metadata": {},
   "outputs": [],
   "source": [
    "# install working environments\n",
    "\n",
    "# Conda envrionment setup\n",
    "conda install -c conda-forge conda\n",
    "# for bioconda\n",
    "conda install -c bioconda-utils\n",
    "\n",
    "# mamba environment setup\n",
    "conda install mamba -n base -c conda-forge\n",
    "# or\n",
    "conda install -c conda-forge mamba"
   ]
  },
  {
   "cell_type": "code",
   "execution_count": null,
   "id": "daabafa1-94ef-490c-a886-358ed5d605eb",
   "metadata": {},
   "outputs": [],
   "source": [
    "# install prokka\n",
    "conda install -c conda-forge -c bioconda -c defaults prokka\n",
    "# activate prokka_env\n",
    "conda activate prokka_env"
   ]
  },
  {
   "cell_type": "code",
   "execution_count": null,
   "id": "f56113bb-eb70-4e06-a288-b6edb16ac85f",
   "metadata": {},
   "outputs": [],
   "source": [
    "# install plasmid finder with its database\n",
    "\n",
    "# go to the directory to store plasmidfinder database\n",
    "cd /mnt/DATAPOOL/mmibstudentnew/\n",
    "\n",
    "# clone database repository\n",
    "git clone https://bitbucket.org/genomicepidemiology/plasmidfinder.git\n",
    "cd plasmidfinder_db\n",
    "PLASMID_DB=$(pwd)\n",
    "# install plasmidfinder database with executable kma_index program\n",
    "python3 INSTALL.py kma_index\n",
    "\n",
    "# install dependencies\n",
    "mamba install cgecore\n",
    "mamba install tabulate\n",
    "\n",
    "# install kma version 2.8.1\n",
    "git clone https://bitbucket.org/genomicepidemiology/kma\n",
    "mamba install kma\n",
    "# install blast latest version\n",
    "ftp://ftp.ncbi.nlm.nih.gov/blast/executables/blast+/LATEST/\n",
    "mamba install blast"
   ]
  },
  {
   "cell_type": "code",
   "execution_count": null,
   "id": "7c78735f-7cd3-4fec-b1a8-cf18e4a6a09b",
   "metadata": {},
   "outputs": [],
   "source": [
    "# install panaroo\n",
    "mamba install -c conda-forge -c bioconda -c defaults panaroo\n",
    "\n",
    "# add cd-hit and MAFFT for building multiple sequence alignments\n",
    "mamba install cd-hit\n",
    "mamba install mafft\n",
    "\n",
    "# install required dependencies\n",
    "mamba install biopython numpy networkx gffutils edlib joblib tdqm cd-hit\n",
    "# install optional dependencies\n",
    "mamba install prank mafft clustal mash"
   ]
  },
  {
   "cell_type": "code",
   "execution_count": null,
   "id": "5ef01724-cc33-474d-b214-2ce9a8614f41",
   "metadata": {},
   "outputs": [],
   "source": [
    "# install ABRicate\n",
    "\n",
    "\n"
   ]
  },
  {
   "cell_type": "code",
   "execution_count": null,
   "id": "55114e4b-96e6-44e6-8c16-b4c7c42071ba",
   "metadata": {},
   "outputs": [],
   "source": [
    "# install rgi with its database\n",
    "mamba install rgi\n",
    "\n",
    "# download latest AMR reference data from CARD\n",
    "wget https://card.mcmaster.ca/latest/data\n",
    "# unarchive downloaded file\n",
    "tar -xvf data ./card.jsontar -xvf data ./card.json\n",
    "\n",
    "# load AMR data in working directory > \"/mnt/DATAPOOL/mmibstudentnew/dummy/\"\n",
    "rgi load --card_json /mnt/DATAPOOL/mmibstudentnew/dummy/card.json --local\n",
    "# load AMR data system wide\n",
    "rgi load --card_json /mnt/DATAPOOL/mmibstudentnew/dummy/card.json\n",
    "\n",
    "# check database version\n",
    "# check local\n",
    "rgi database --version --local\n",
    "# check system wide\n",
    "rgi database --version\n",
    "\n",
    "# clean previous versions\n",
    "# clean rgi local\n",
    "rgi clean --local\n",
    "# clean system wide\n",
    "rgi clean\n",
    "\n",
    "# download wildcard data\n",
    "wget -O wildcard_data.tar.bz2 https://card.mcmaster.ca/latest/variants\n",
    "mkdir -p wildcard\n",
    "tar -xjf wildcard_data.tar.bz2 -C wildcard\n",
    "gunzip wildcard/*.gz\n",
    "\n",
    "# create annotation files using CARD data\n",
    "rgi card_annotation -i /mnt/DATAPOOL/mmibstudentnew/dummy/card.json > card_annotation.log 2>&1\n",
    "# create annotation files using WILDCARD data\n",
    "rgi wildcard_annotation -i wildcard --card_json /mnt/DATAPOOL/mmibstudentnew/dummy/card.json > wildcard_annotation.log 2>&1\n",
    "\n",
    "#load data into RGI\n",
    "rgi load --card_json/mnt/DATAPOOL/mmibstudentnew/dummy/card.json \\ \n",
    "--debug --local \\ \n",
    "--card_annotation card_database_v3.2.6.fasta \\ \n",
    "--card_annotation_all_models card_database_v3.2.6_all.fasta rgi load --card_json/mnt/DATAPOOL/mmibstudentnew/dummy/card.json--debug --local --card_annotation card_database_v3.2.6.fasta --card_annotation_all_models card_database_v3.2.6_all.fasta rgi load --card_json/mnt/DATAPOOL/mmibstudentnew/dummy/card.json--debug --local --card_annotation card_database_v3.2.6.fasta card_annotation_all_models card_database_v3.2.6_all.fasta rgi load --card_json/mnt/DATAPOOL/mmibstudentnew/dummy/card.json--debug --local --card_annotation card_database_v3.2.6.fasta \\ \n",
    "--card_annotation_all_models card_database_v3.2.6_all.fasta \\ \n",
    "--wildcard_annotation wildcard_database.fasta \\ \n",
    "--wildcard_annotation_all_models wildcard_database_all.fasta \\ \n",
    "--wildcard_index /path/to/wildcard/index-for-model-sequences.txt \\ \n",
    "--wildcard \\ \n",
    "--amr_kmers /path/to/wildcard/all_amr_61mers.txt \\ \n",
    "--kmer_database /path/to/wildcard/61_kmer_db.json \\ \n",
    "--kmer_size 61"
   ]
  },
  {
   "cell_type": "code",
   "execution_count": null,
   "id": "b44dcf83-8ec6-4490-96a5-1098028e8cd1",
   "metadata": {},
   "outputs": [],
   "source": [
    "# run plasmidfinder on 261 ctx-M-15 dummy plasmids\n",
    "for file in *;do \n",
    "mkdir /mnt/DATAPOOL/mmibstudentnew/dummy/output_files/test/$file/; \n",
    "plasmidfinder.py -i $file \n",
    "-o /mnt/DATAPOOL/mmibstudentnew/dummy/output_files/test/$file/ \n",
    "-t 0.60 -x -p \n",
    "/mnt/DATAPOOL/mmibstudentnew/plasmidfinder/plasmidfinder_db/;done"
   ]
  },
  {
   "cell_type": "code",
   "execution_count": null,
   "id": "7da2e4c1-010d-4bb2-838e-efabaec9a800",
   "metadata": {},
   "outputs": [],
   "source": [
    "# run prokka on 261 ctx-M-15 dummy plasmids\n",
    "for file in *.fasta; do prokka --kingdom Bacteria \n",
    "--outdir $file$file --prefix $file $file --force;done"
   ]
  },
  {
   "cell_type": "code",
   "execution_count": null,
   "id": "49971d4d-f495-4883-98e7-15ae71a708b9",
   "metadata": {},
   "outputs": [],
   "source": [
    "# grep all gff files\n",
    "for subdir in ;do cp $subdir/.gff $subdir.gff; done;"
   ]
  }
 ],
 "metadata": {
  "kernelspec": {
   "display_name": "Python 3 (ipykernel)",
   "language": "python",
   "name": "python3"
  },
  "language_info": {
   "codemirror_mode": {
    "name": "ipython",
    "version": 3
   },
   "file_extension": ".py",
   "mimetype": "text/x-python",
   "name": "python",
   "nbconvert_exporter": "python",
   "pygments_lexer": "ipython3",
   "version": "3.9.10"
  }
 },
 "nbformat": 4,
 "nbformat_minor": 5
}
